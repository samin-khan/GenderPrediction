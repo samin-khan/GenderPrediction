{
 "cells": [
  {
   "cell_type": "code",
   "execution_count": 163,
   "metadata": {
    "collapsed": true
   },
   "outputs": [],
   "source": [
    "import pandas as pd\n",
    "import numpy as np\n",
    "\n",
    "from sklearn.model_selection import LeaveOneOut\n",
    "from sklearn.model_selection import KFold\n",
    "from sklearn.linear_model import LogisticRegression\n",
    "import matplotlib.pyplot as plt\n",
    "\n",
    "from openpyxl import load_workbook\n",
    "import operator\n",
    "import pickle\n",
    "import time\n",
    "import math"
   ]
  },
  {
   "cell_type": "code",
   "execution_count": 123,
   "metadata": {
    "collapsed": false
   },
   "outputs": [],
   "source": [
    "# Read coefficients of model\n",
    "in_stream = open(\"compact_merge_coef.pkl\", \"rb\")\n",
    "dfCoef = pickle.load(in_stream)\n",
    "in_stream.close()\n",
    "\n",
    "df = pd.DataFrame.from_csv('brand_features_singleword.csv')\n",
    "intercept = 0.04467419\n",
    "L = ['BRAND']\n",
    "L.extend(dfCoef[0])\n",
    "\n",
    "dfFeatures = df[L]"
   ]
  },
  {
   "cell_type": "code",
   "execution_count": 217,
   "metadata": {
    "collapsed": false
   },
   "outputs": [
    {
     "name": "stdout",
     "output_type": "stream",
     "text": [
      "ANALGESICS\n",
      "Female ratio: 0.5945945945945946\n",
      "BABY_FOODS\n",
      "Female ratio: 0.2222222222222222\n",
      "BASEBALL_EQUIPMENT\n",
      "Female ratio: 0.7333333333333333\n",
      "CARS_TRUCKS\n",
      "Female ratio: 0.5714285714285714\n",
      "COSMETICS\n",
      "Female ratio: 0.49586776859504134\n",
      "FINANCIAL_SERVICES\n",
      "Female ratio: 0.782608695652174\n",
      "BBQ\n",
      "Female ratio: 0.6666666666666666\n",
      "HAIR_PRODUCTS\n",
      "Female ratio: 0.631578947368421\n",
      "JEWELRY\n",
      "Female ratio: 0.5622895622895623\n",
      "MEN_HAIRCARE\n",
      "Female ratio: 0.5\n",
      "MEN_UNDERWEAR\n",
      "Female ratio: 0.5882352941176471\n",
      "MILITARY\n",
      "Female ratio: 0.5833333333333334\n",
      "POWER_TOOLS\n",
      "Female ratio: 0.6770833333333334\n",
      "TELEVISIONS\n",
      "Female ratio: 0.5416666666666666\n",
      "WATCHES\n",
      "Female ratio: 0.696969696969697\n",
      "WOMENS_UNDERWEAR\n",
      "Female ratio: 0.4\n",
      "YOGURT\n",
      "Female ratio: 0.625\n",
      "Total: 1087\n"
     ]
    }
   ],
   "source": [
    "sheet = 1\n",
    "count = 0\n",
    "for category in df.CATEGORY.unique():\n",
    "\n",
    "    \n",
    "    print(category)\n",
    "    \n",
    "    num_females = 0\n",
    "    num_total = 0\n",
    "    \n",
    "    dfCurrent = dfFeatures.loc[df['CATEGORY'] == category]\n",
    "    \n",
    "    name_predictions = [(\"Name\", \"Prediction\", \"Male Confidence\", \"Female Confidence\")]\n",
    "    \n",
    "    for i in range(len(dfCurrent)):\n",
    "        dot = 0\n",
    "        for f in range(len(dfCoef[1])):\n",
    "            dot += dfCurrent.iloc[i][f+1] * dfCoef[1][f]\n",
    "        prediction_probability = 1 / (math.exp(dot + intercept) + 1)\n",
    "        \n",
    "        num_total += 1\n",
    "        if prediction_probability >= 0.5:\n",
    "            num_females += 1\n",
    "            name_predictions.append((dfCurrent.iloc[i][0], prediction_probability, None, prediction_probability - 0.5))\n",
    "        else:\n",
    "            name_predictions.append((dfCurrent.iloc[i][0], prediction_probability, abs(prediction_probability - 0.5), None))\n",
    "    \n",
    "    female_ratio = num_females / num_total\n",
    "    \n",
    "    name_predictions[0] = (\"Name\", \"Prediction\", \"Male Confidence\", \"Female Confidence\", \"Female Ratio: \" + str(female_ratio))\n",
    "    \n",
    "    print(\"Female ratio: \" + str(female_ratio))\n",
    "    \n",
    "    dfPredict = pd.DataFrame(name_predictions)\n",
    "    excel_dir = 'brand_predictions.xlsx'\n",
    "    book = load_workbook(excel_dir)\n",
    "    with pd.ExcelWriter(excel_dir, engine='openpyxl') as writer:\n",
    "        writer.book = book\n",
    "        writer.sheets = dict((ws.title, ws) for ws in book.worksheets)    \n",
    "\n",
    "        ## Your dataframe to append. \n",
    "        dfPredict.to_excel(writer, category, index=False)\n",
    "\n",
    "        writer.save()  \n",
    "    writer.close()\n",
    "    \n",
    "    count += num_total\n",
    "    sheet += 1\n",
    "    \n",
    "    file_name = category\n",
    "\n",
    "    bar_nums = [1,2]\n",
    "    ratios = [1 - female_ratio, female_ratio]\n",
    "\n",
    "    LABELS = [\"Male\", \"Female\"]\n",
    "\n",
    "    plt.bar(bar_nums, ratios, align='center')\n",
    "    plt.xticks(bar_nums, LABELS)\n",
    "\n",
    "    plt.title(file_name + ' Gender Distribution (' + str(num_total) + ')')\n",
    "    plt.ylabel(\"Ratio (%)\")\n",
    "    plt.xlabel(\"Gender\")\n",
    "    \n",
    "    for i,j in zip(bar_nums,ratios):\n",
    "        plt.annotate(str(round(j, 2)),xy=(i,j))\n",
    "\n",
    "    plt.savefig(file_name + '.png')\n",
    "    plt.clf()\n",
    "    \n",
    "    \n",
    "print(\"Total: \" + str(count))"
   ]
  },
  {
   "cell_type": "code",
   "execution_count": 158,
   "metadata": {
    "collapsed": false
   },
   "outputs": [
    {
     "data": {
      "text/plain": [
       "array(['ANALGESICS', 'BABY_FOODS', 'BASEBALL_EQUIPMENT', 'CARS_TRUCKS',\n",
       "       'COSMETICS', 'FINANCIAL_SERVICES', 'BBQ', 'HAIR_PRODUCTS',\n",
       "       'JEWELRY', 'MEN_HAIRCARE', 'MEN_UNDERWEAR', 'MILITARY',\n",
       "       'POWER_TOOLS', 'TELEVISIONS', 'WATCHES', 'WOMENS_UNDERWEAR',\n",
       "       'YOGURT'], dtype=object)"
      ]
     },
     "execution_count": 158,
     "metadata": {},
     "output_type": "execute_result"
    }
   ],
   "source": [
    "df.CATEGORY.unique()"
   ]
  },
  {
   "cell_type": "code",
   "execution_count": 205,
   "metadata": {
    "collapsed": false
   },
   "outputs": [],
   "source": [
    "file_name = 'example'\n",
    "\n",
    "DayOfWeekOfCall = [1,2]\n",
    "DispatchesOnThisWeekday = [0.3, 0.7]\n",
    "\n",
    "LABELS = [\"Male\", \"Female\"]\n",
    "\n",
    "plt.bar(DayOfWeekOfCall, DispatchesOnThisWeekday, align='center')\n",
    "plt.xticks(DayOfWeekOfCall, LABELS)\n",
    "\n",
    "plt.title(file_name + ' Gender Distribution')\n",
    "plt.ylabel(\"Ratio (%)\")\n",
    "plt.xlabel(\"Gender\")\n",
    "\n",
    "plt.savefig(file_name + '.png')\n"
   ]
  },
  {
   "cell_type": "code",
   "execution_count": 213,
   "metadata": {
    "collapsed": false
   },
   "outputs": [
    {
     "data": {
      "text/plain": [
       "0.3"
      ]
     },
     "execution_count": 213,
     "metadata": {},
     "output_type": "execute_result"
    }
   ],
   "source": [
    "abs(0.2-0.5)"
   ]
  },
  {
   "cell_type": "code",
   "execution_count": null,
   "metadata": {
    "collapsed": true
   },
   "outputs": [],
   "source": []
  }
 ],
 "metadata": {
  "kernelspec": {
   "display_name": "Python 3",
   "language": "python",
   "name": "python3"
  },
  "language_info": {
   "codemirror_mode": {
    "name": "ipython",
    "version": 3
   },
   "file_extension": ".py",
   "mimetype": "text/x-python",
   "name": "python",
   "nbconvert_exporter": "python",
   "pygments_lexer": "ipython3",
   "version": "3.6.0"
  }
 },
 "nbformat": 4,
 "nbformat_minor": 2
}
