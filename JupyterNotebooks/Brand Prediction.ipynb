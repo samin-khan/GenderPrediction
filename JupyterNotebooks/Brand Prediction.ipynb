{
 "cells": [
  {
   "cell_type": "code",
   "execution_count": 1,
   "metadata": {
    "collapsed": true
   },
   "outputs": [],
   "source": [
    "import pandas as pd\n",
    "import numpy as np\n",
    "\n",
    "from sklearn.model_selection import LeaveOneOut\n",
    "from sklearn.model_selection import KFold\n",
    "from sklearn.linear_model import LogisticRegression\n",
    "import matplotlib.pyplot as plt\n",
    "\n",
    "from openpyxl import load_workbook\n",
    "import operator\n",
    "import pickle\n",
    "import time\n",
    "import math"
   ]
  },
  {
   "cell_type": "code",
   "execution_count": 2,
   "metadata": {
    "collapsed": false
   },
   "outputs": [],
   "source": [
    "# Read coefficients of model\n",
    "in_stream = open(\"compact_merge_coef.pkl\", \"rb\")\n",
    "dfCoef = pickle.load(in_stream)\n",
    "in_stream.close()\n",
    "\n",
    "df = pd.DataFrame.from_csv('brand_features_singleword.csv')\n",
    "intercept = 0.04467419\n",
    "L = ['BRAND']\n",
    "L.extend(dfCoef[0])\n",
    "\n",
    "dfFeatures = df[L]"
   ]
  },
  {
   "cell_type": "code",
   "execution_count": 4,
   "metadata": {
    "collapsed": false
   },
   "outputs": [
    {
     "name": "stdout",
     "output_type": "stream",
     "text": [
      "ANALGESICS\n",
      "Female ratio: 0.40540540540540543\n",
      "BABY_FOODS\n",
      "Female ratio: 0.7777777777777778\n",
      "BASEBALL_EQUIPMENT\n",
      "Female ratio: 0.26666666666666666\n",
      "CARS_TRUCKS\n",
      "Female ratio: 0.42857142857142855\n",
      "COSMETICS\n",
      "Female ratio: 0.5041322314049587\n",
      "FINANCIAL_SERVICES\n",
      "Female ratio: 0.21739130434782608\n",
      "BBQ\n",
      "Female ratio: 0.3333333333333333\n",
      "HAIR_PRODUCTS\n",
      "Female ratio: 0.3684210526315789\n",
      "JEWELRY\n",
      "Female ratio: 0.4377104377104377\n",
      "MEN_HAIRCARE\n",
      "Female ratio: 0.5\n",
      "MEN_UNDERWEAR\n",
      "Female ratio: 0.4117647058823529\n",
      "MILITARY\n",
      "Female ratio: 0.4166666666666667\n",
      "POWER_TOOLS\n",
      "Female ratio: 0.3229166666666667\n",
      "TELEVISIONS\n",
      "Female ratio: 0.4583333333333333\n",
      "WATCHES\n",
      "Female ratio: 0.30303030303030304\n",
      "WOMENS_UNDERWEAR\n",
      "Female ratio: 0.6\n",
      "YOGURT\n",
      "Female ratio: 0.375\n",
      "Total: 1087\n"
     ]
    }
   ],
   "source": [
    "sheet = 1\n",
    "count = 0\n",
    "for category in df.CATEGORY.unique():\n",
    "\n",
    "    \n",
    "    print(category)\n",
    "    \n",
    "    num_females = 0\n",
    "    num_total = 0\n",
    "    \n",
    "    dfCurrent = dfFeatures.loc[df['CATEGORY'] == category]\n",
    "    \n",
    "    name_predictions = [(\"Name\", \"Prediction\", \"Male Confidence\", \"Female Confidence\")]\n",
    "    male_confidence = []\n",
    "    female_confidence = []\n",
    "    \n",
    "    for i in range(len(dfCurrent)):\n",
    "        dot = 0\n",
    "        for f in range(len(dfCoef[1])):\n",
    "            dot += dfCurrent.iloc[i][f+1] * dfCoef[1][f]\n",
    "        prediction_probability = 1 / (math.exp(- dot - intercept) + 1)\n",
    "        \n",
    "        num_total += 1\n",
    "        if prediction_probability >= 0.5:\n",
    "            num_females += 1\n",
    "            name_predictions.append((dfCurrent.iloc[i][0], prediction_probability, None, prediction_probability - 0.5))\n",
    "            female_confidence.append(prediction_probability - 0.5)\n",
    "        else:\n",
    "            name_predictions.append((dfCurrent.iloc[i][0], prediction_probability, abs(prediction_probability - 0.5), None))\n",
    "            male_confidence.append(abs(prediction_probability - 0.5))\n",
    "    \n",
    "    female_ratio = num_females / num_total\n",
    "    \n",
    "    name_predictions[0] = (\"Name\", \"Prediction\", \"Male Confidence\", \"Female Confidence\", \"Female Ratio: \" + str(female_ratio))\n",
    "    \n",
    "    print(\"Female ratio: \" + str(female_ratio))\n",
    "    \n",
    "    dfPredict = pd.DataFrame(name_predictions)\n",
    "    excel_dir = 'brand_predictions.xlsx'\n",
    "    book = load_workbook(excel_dir)\n",
    "    with pd.ExcelWriter(excel_dir, engine='openpyxl') as writer:\n",
    "        writer.book = book\n",
    "        writer.sheets = dict((ws.title, ws) for ws in book.worksheets)    \n",
    "\n",
    "        ## Your dataframe to append. \n",
    "        dfPredict.to_excel(writer, category, index=False)\n",
    "\n",
    "        writer.save()  \n",
    "    writer.close()\n",
    "    \n",
    "    count += num_total\n",
    "    sheet += 1\n",
    "    \n",
    "    file_name = category\n",
    "\n",
    "    bar_nums = [1,2]\n",
    "    ratios = [1 - female_ratio, female_ratio]\n",
    "\n",
    "    LABELS = [\"Male\", \"Female\"]\n",
    "\n",
    "    plt.subplot(1, 3, 1)\n",
    "    plt.bar(bar_nums, ratios, align='center')\n",
    "    plt.xticks(bar_nums, LABELS)\n",
    "\n",
    "    plt.title(file_name + '\\nGender Ratio (N=' + str(num_total) + ')')\n",
    "    plt.ylabel(\"Ratio (%)\")\n",
    "    plt.xlabel(\"Gender\")\n",
    "    \n",
    "    for i,j in zip(bar_nums,ratios):\n",
    "        plt.annotate(str(round(j, 2)),xy=(i,j))\n",
    "    plt.subplot(1, 2, 2)\n",
    "    \n",
    "    data = [male_confidence, female_confidence]\n",
    "#     data = np.concatenate((male_confidence, female_confidence), 0)\n",
    "    plt.boxplot(data, labels = ['Male', 'Female'])\n",
    "    plt.ylim([0, 0.5])\n",
    "    plt.ylabel(\"Confidence\")\n",
    "#     plt.boxplot(male_confidence, positions = [1, 2])\n",
    "\n",
    "#     plt.boxplot(female_confidence, positions = [3, 4])\n",
    "    \n",
    "    \n",
    "    plt.savefig(file_name + '.png')\n",
    "    plt.clf()\n",
    "    \n",
    "    \n",
    "    \n",
    "    \n",
    "print(\"Total: \" + str(count))"
   ]
  },
  {
   "cell_type": "code",
   "execution_count": 220,
   "metadata": {
    "collapsed": false
   },
   "outputs": [],
   "source": [
    "dfPredict.to_csv('Brand Predictions.csv')"
   ]
  },
  {
   "cell_type": "code",
   "execution_count": 205,
   "metadata": {
    "collapsed": false
   },
   "outputs": [],
   "source": [
    "file_name = 'example'\n",
    "\n",
    "DayOfWeekOfCall = [1,2]\n",
    "DispatchesOnThisWeekday = [0.3, 0.7]\n",
    "\n",
    "LABELS = [\"Male\", \"Female\"]\n",
    "\n",
    "plt.bar(DayOfWeekOfCall, DispatchesOnThisWeekday, align='center')\n",
    "plt.xticks(DayOfWeekOfCall, LABELS)\n",
    "\n",
    "plt.title(file_name + ' Gender Distribution')\n",
    "plt.ylabel(\"Ratio (%)\")\n",
    "plt.xlabel(\"Gender\")\n",
    "\n",
    "plt.savefig(file_name + '.png')\n"
   ]
  },
  {
   "cell_type": "code",
   "execution_count": 5,
   "metadata": {
    "collapsed": false
   },
   "outputs": [],
   "source": [
    "dfCSV = pd.DataFrame.from_csv(\"brand_features_singleword.csv\")"
   ]
  },
  {
   "cell_type": "code",
   "execution_count": 8,
   "metadata": {
    "collapsed": false
   },
   "outputs": [],
   "source": [
    "dfCSV[[\"BRAND\",\"CATEGORY\", \"DOLS\"]].to_csv(\"brand_singleword.csv\")"
   ]
  },
  {
   "cell_type": "code",
   "execution_count": null,
   "metadata": {
    "collapsed": true
   },
   "outputs": [],
   "source": []
  }
 ],
 "metadata": {
  "kernelspec": {
   "display_name": "Python 3",
   "language": "python",
   "name": "python3"
  },
  "language_info": {
   "codemirror_mode": {
    "name": "ipython",
    "version": 3
   },
   "file_extension": ".py",
   "mimetype": "text/x-python",
   "name": "python",
   "nbconvert_exporter": "python",
   "pygments_lexer": "ipython3",
   "version": "3.6.0"
  }
 },
 "nbformat": 4,
 "nbformat_minor": 2
}
